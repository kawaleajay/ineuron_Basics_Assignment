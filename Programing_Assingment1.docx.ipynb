{
 "cells": [
  {
   "cell_type": "markdown",
   "id": "89b8a539",
   "metadata": {},
   "source": [
    "# 1. Write a Python program to print \"Hello Python\"?"
   ]
  },
  {
   "cell_type": "code",
   "execution_count": 1,
   "id": "f7f905ab",
   "metadata": {},
   "outputs": [
    {
     "name": "stdout",
     "output_type": "stream",
     "text": [
      "Hello Python\n"
     ]
    }
   ],
   "source": [
    "x=\"Hello Python\"\n",
    "print(x)"
   ]
  },
  {
   "cell_type": "code",
   "execution_count": 2,
   "id": "ed14045b",
   "metadata": {},
   "outputs": [
    {
     "name": "stdout",
     "output_type": "stream",
     "text": [
      "Hello Python\n"
     ]
    }
   ],
   "source": [
    "print(\"Hello Python\")"
   ]
  },
  {
   "cell_type": "markdown",
   "id": "0899913f",
   "metadata": {},
   "source": [
    "# 2. Write a Python program to do arithmetical operations addition and division.?"
   ]
  },
  {
   "cell_type": "code",
   "execution_count": 17,
   "id": "4f8f29e4",
   "metadata": {},
   "outputs": [
    {
     "name": "stdout",
     "output_type": "stream",
     "text": [
      "Enter the first number:10\n",
      "Enter the second number:5\n",
      "Enter your choice:,+,/ :+\n",
      "15\n"
     ]
    }
   ],
   "source": [
    "a=int(input(\"Enter the first number:\"))\n",
    "b=int(input(\"Enter the second number:\"))\n",
    "\n",
    "c=input(\"Enter your choice:,+,/ :\")\n",
    "\n",
    "if c=='+':\n",
    "    c=a+b\n",
    "    print(c)\n",
    "    \n",
    "elif c =='/':\n",
    "    c=a/b\n",
    "    print(int(c))\n",
    "    \n",
    "else:\n",
    "    print(\"Please check your choice:\")\n",
    "\n"
   ]
  },
  {
   "cell_type": "code",
   "execution_count": 20,
   "id": "c1b365c5",
   "metadata": {},
   "outputs": [
    {
     "name": "stdout",
     "output_type": "stream",
     "text": [
      "Enter the first number:10\n",
      "Enter the second number:5\n",
      "15\n",
      "2\n"
     ]
    }
   ],
   "source": [
    "a=int(input(\"Enter the first number:\"))\n",
    "b=int(input(\"Enter the second number:\"))\n",
    "\n",
    "c=a+b\n",
    "print(c)\n",
    "\n",
    "c=a/b\n",
    "print(int(c))\n",
    "\n"
   ]
  },
  {
   "cell_type": "markdown",
   "id": "5ca5bf83",
   "metadata": {},
   "source": [
    "# 3. Write a Python program to find the area of a triangle?"
   ]
  },
  {
   "cell_type": "code",
   "execution_count": 25,
   "id": "fdb55431",
   "metadata": {},
   "outputs": [
    {
     "name": "stdout",
     "output_type": "stream",
     "text": [
      "Enter the first side of a triangle:4\n",
      "Enter the second side of a triangle:5\n",
      "Enter the third side of a triangle:8\n",
      "8.181534085976786\n"
     ]
    }
   ],
   "source": [
    "a= float(input(\"Enter the first side of a triangle:\"))\n",
    "b=float(input(\"Enter the second side of a triangle:\"))\n",
    "c=float(input(\"Enter the third side of a triangle:\"))\n",
    "\n",
    "\n",
    "  #semi_parimeter\n",
    "    \n",
    "s = (a+b+c)/2\n",
    "\n",
    "   #calculate the area\n",
    "Area = (s*(s-a)*(s-b)*(s-c))**0.5\n",
    "print(Area)\n",
    "\n"
   ]
  },
  {
   "cell_type": "markdown",
   "id": "23ee8db4",
   "metadata": {},
   "source": [
    "# 4. Write a Python program to swap two variables?"
   ]
  },
  {
   "cell_type": "code",
   "execution_count": 27,
   "id": "c63ee4b9",
   "metadata": {},
   "outputs": [
    {
     "name": "stdout",
     "output_type": "stream",
     "text": [
      "enter the first value:5\n",
      "enter the second value:4\n",
      "the value of a after swaping: 4\n",
      "the value of b after swaping: 5\n"
     ]
    }
   ],
   "source": [
    "a=input(\"enter the first value:\")\n",
    "b=input(\"enter the second value:\")\n",
    " \n",
    "    #creat a temporary variable and swap the values:\n",
    "str1=a\n",
    "a=b\n",
    "b=str1\n",
    "\n",
    "print('the value of a after swaping:',format(a))\n",
    "print('the value of b after swaping:',format(b))"
   ]
  },
  {
   "cell_type": "markdown",
   "id": "cb71adef",
   "metadata": {},
   "source": [
    "# 5. Write a Python program to generate a random number?"
   ]
  },
  {
   "cell_type": "code",
   "execution_count": 5,
   "id": "e3e6e070",
   "metadata": {},
   "outputs": [
    {
     "name": "stdout",
     "output_type": "stream",
     "text": [
      "7\n"
     ]
    }
   ],
   "source": [
    " #import the random module\n",
    "    \n",
    "import random\n",
    " print(random.randint(0,9))"
   ]
  }
 ],
 "metadata": {
  "kernelspec": {
   "display_name": "Python 3 (ipykernel)",
   "language": "python",
   "name": "python3"
  },
  "language_info": {
   "codemirror_mode": {
    "name": "ipython",
    "version": 3
   },
   "file_extension": ".py",
   "mimetype": "text/x-python",
   "name": "python",
   "nbconvert_exporter": "python",
   "pygments_lexer": "ipython3",
   "version": "3.9.12"
  }
 },
 "nbformat": 4,
 "nbformat_minor": 5
}
