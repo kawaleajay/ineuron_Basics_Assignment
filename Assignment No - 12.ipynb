{
 "cells": [
  {
   "cell_type": "markdown",
   "id": "85c33ac1",
   "metadata": {},
   "source": [
    "# 1. In what modes should the PdfFileReader() and PdfFileWriter() File objects will be opened?"
   ]
  },
  {
   "cell_type": "markdown",
   "id": "b6112a10",
   "metadata": {},
   "source": [
    "Answer -\n",
    "PdfFileReader() needs to be opened in read-binary mode by passing 'rb' as the second argument to open(). Likewise, the File object passed to PyPDF2. PdfFileWriter() needs to be opened in write-binary mode with 'wb'."
   ]
  },
  {
   "cell_type": "markdown",
   "id": "4ae2c252",
   "metadata": {},
   "source": [
    "# 2. From a PdfFileReader object, how do you get a Page object for page 5?"
   ]
  },
  {
   "cell_type": "markdown",
   "id": "18e03ddf",
   "metadata": {},
   "source": [
    "Answer -\n",
    "Calling getPage(4) will return a page object for page 5, since page 0 is the first page."
   ]
  },
  {
   "cell_type": "markdown",
   "id": "e7a04a36",
   "metadata": {},
   "source": [
    "# 3. What PdfFileReader variable stores the number of pages in the PDF document?"
   ]
  },
  {
   "cell_type": "markdown",
   "id": "09df4943",
   "metadata": {},
   "source": [
    "Answer -\n",
    "The total number of pages in the document is stored in the numPages variable of a PdfFileReader object."
   ]
  },
  {
   "cell_type": "markdown",
   "id": "67caa8c0",
   "metadata": {},
   "source": [
    "# 4. If a PdfFileReader object’s PDF is encrypted with the password swordfish, what must you do\n",
    "before you can obtain Page objects from it?"
   ]
  },
  {
   "cell_type": "markdown",
   "id": "0c28ba51",
   "metadata": {},
   "source": [
    "Answer -\n",
    "To read an encrypted PDF, call the decrypt() function and pass the password as a string, in our case it is swordfish. After we call decrypt() with the correct password, you’ll see that calling getPage() no longer causes an error. Call decrypt('swordfish')."
   ]
  },
  {
   "cell_type": "markdown",
   "id": "2c561303",
   "metadata": {},
   "source": [
    "# 5. What methods do you use to rotate a page?"
   ]
  },
  {
   "cell_type": "markdown",
   "id": "337329c8",
   "metadata": {},
   "source": [
    "The pages of a PDF can be rotated in 90-degree increments with the rotateClockwise() and rotateCounterClockwise() methods."
   ]
  },
  {
   "cell_type": "markdown",
   "id": "45051674",
   "metadata": {},
   "source": [
    "# 6. What is the difference between a Run object and a Paragraph object?"
   ]
  },
  {
   "cell_type": "markdown",
   "id": "eb840ec4",
   "metadata": {},
   "source": [
    "Answer -\n",
    "A document contains multiple paragraphs. A paragraph begins on a new line and contains multiple runs. Runs are contiguous groups of charecters within a paragraph."
   ]
  },
  {
   "cell_type": "markdown",
   "id": "2fcf4e0d",
   "metadata": {},
   "source": [
    "# 7. How do you obtain a list of Paragraph objects for a Document object that’s stored in a variable\n",
    "named doc?"
   ]
  },
  {
   "cell_type": "markdown",
   "id": "0ef5a010",
   "metadata": {},
   "source": [
    "Answer -\n",
    "len(doc.paragraphs)"
   ]
  },
  {
   "cell_type": "markdown",
   "id": "f85ed971",
   "metadata": {},
   "source": [
    "# 8. What type of object has bold, underline, italic, strike, and outline variables?"
   ]
  },
  {
   "cell_type": "markdown",
   "id": "c1c51f57",
   "metadata": {},
   "source": [
    "Answer -\n",
    "Run Object"
   ]
  },
  {
   "cell_type": "markdown",
   "id": "da9c56e1",
   "metadata": {},
   "source": [
    "# 9. What is the difference between False, True, and None for the bold variable?"
   ]
  },
  {
   "cell_type": "markdown",
   "id": "646c87d8",
   "metadata": {},
   "source": [
    "Answer -\n",
    "True always makes the run object bolded and False makes it always not bolded, no matter what the style's bold settings is. None will make the Run object just use the style's bold settings."
   ]
  },
  {
   "cell_type": "markdown",
   "id": "c7df8c37",
   "metadata": {},
   "source": [
    "# 10. How do you create a Document object for a new Word document?"
   ]
  },
  {
   "cell_type": "markdown",
   "id": "ddb288d2",
   "metadata": {},
   "source": [
    "Answer -\n",
    "mydoc = docx.Document()"
   ]
  },
  {
   "cell_type": "markdown",
   "id": "0f5aa4d2",
   "metadata": {},
   "source": [
    "# 11. How do you add a paragraph with the text &#39;Hello, there!&#39; to a Document object stored in a\n",
    "variable named doc?"
   ]
  },
  {
   "cell_type": "markdown",
   "id": "2b02baba",
   "metadata": {},
   "source": [
    "Answer -\n",
    "doc.add_paragraph('Hello, there!')"
   ]
  },
  {
   "cell_type": "markdown",
   "id": "5f706247",
   "metadata": {},
   "source": [
    "# 12. What integers represent the levels of headings available in Word documents?"
   ]
  },
  {
   "cell_type": "markdown",
   "id": "8fa3bb07",
   "metadata": {},
   "source": [
    "Answer -\n",
    "The arguments to add_heading() are a string of the heading text and an integer from 0 to 4. The integer 0 makes the heading the Title style, which is used for the top of the document. Integers 1 to 4 are for various heading levels, with 1 being the main heading and 4 the lowest subheading. The add_heading() function returns a Paragraph object to save you the step of extracting it from the Document object as a separate step."
   ]
  },
  {
   "cell_type": "code",
   "execution_count": null,
   "id": "31baaf97",
   "metadata": {},
   "outputs": [],
   "source": []
  }
 ],
 "metadata": {
  "kernelspec": {
   "display_name": "Python 3 (ipykernel)",
   "language": "python",
   "name": "python3"
  },
  "language_info": {
   "codemirror_mode": {
    "name": "ipython",
    "version": 3
   },
   "file_extension": ".py",
   "mimetype": "text/x-python",
   "name": "python",
   "nbconvert_exporter": "python",
   "pygments_lexer": "ipython3",
   "version": "3.9.12"
  }
 },
 "nbformat": 4,
 "nbformat_minor": 5
}
