{
 "cells": [
  {
   "cell_type": "markdown",
   "id": "c95101fc",
   "metadata": {},
   "source": [
    "# 1. Write a Python program to find words which are greater than given length k?"
   ]
  },
  {
   "cell_type": "code",
   "execution_count": 1,
   "id": "10733297",
   "metadata": {},
   "outputs": [
    {
     "name": "stdout",
     "output_type": "stream",
     "text": [
      "Enter the string : ineuron is the best coaching centre\n",
      "Enter the lenth K : 3\n",
      "\n",
      "The original string ' ineuron is the best coaching centre '\n",
      "Words which are greater than length 3\n",
      "['ineuron', 'best', 'coaching', 'centre']\n"
     ]
    }
   ],
   "source": [
    "def wordsBiggerThanLenghtK(k,str):\n",
    "    txt = str.split()\n",
    "    listOfWords = []\n",
    "    for i in txt:\n",
    "        if len(i) > k:\n",
    "            listOfWords.append(i)\n",
    "    return listOfWords\n",
    "\n",
    "str = input(\"Enter the string : \")\n",
    "k = int(input(\"Enter the lenth K : \"))\n",
    "\n",
    "listword = wordsBiggerThanLenghtK(k,str)\n",
    "\n",
    "print(\"\\nThe original string ' {} '\".format(str))\n",
    "\n",
    "print(\"Words which are greater than length {}\".format(k))\n",
    "print(listword)"
   ]
  },
  {
   "cell_type": "markdown",
   "id": "c9605b65",
   "metadata": {},
   "source": [
    "# 2. Write a Python program for removing i-th character from a string?"
   ]
  },
  {
   "cell_type": "code",
   "execution_count": 2,
   "id": "7a872b9f",
   "metadata": {},
   "outputs": [
    {
     "name": "stdout",
     "output_type": "stream",
     "text": [
      "Enter the string : programming!\n",
      "Enter the index : 3\n",
      "The new string :  proramming!\n"
     ]
    }
   ],
   "source": [
    "# Removes character at index i\n",
    "def remove(str, i): \n",
    "  \n",
    "    for j in range(len(str)):\n",
    "        if j == i:\n",
    "            str = str.replace(str[i], \"\", 1)\n",
    "    return str      \n",
    "\n",
    "str = input(\"Enter the string : \")\n",
    "i = int(input(\"Enter the index : \"))      \n",
    "\n",
    "# Print the new string\n",
    "\n",
    "print(\"The new string : \", remove(str, i))"
   ]
  },
  {
   "cell_type": "markdown",
   "id": "c55de663",
   "metadata": {},
   "source": [
    "# 3. Write a Python program to split and join a string?"
   ]
  },
  {
   "cell_type": "code",
   "execution_count": 3,
   "id": "c9e57d1b",
   "metadata": {},
   "outputs": [
    {
     "name": "stdout",
     "output_type": "stream",
     "text": [
      "Spliting a string :  ['this', 'is', 'a', 'string']\n",
      "Joining a string :  this-is-a-string\n"
     ]
    }
   ],
   "source": [
    "str = \"this is a string\"\n",
    "str = str.split(\" \") # str is converted to a list of strings. \n",
    "print(\"Spliting a string : \",str)\n",
    "\n",
    "\n",
    "str2 = \"-\".join(str)\n",
    "print(\"Joining a string : \",str2)"
   ]
  },
  {
   "cell_type": "markdown",
   "id": "fdbdf2a0",
   "metadata": {},
   "source": [
    "# 4. Write a Python to check if a given string is binary string or not?"
   ]
  },
  {
   "cell_type": "code",
   "execution_count": 4,
   "id": "7998dda3",
   "metadata": {},
   "outputs": [
    {
     "name": "stdout",
     "output_type": "stream",
     "text": [
      "Enter the string : 4654498465\n",
      "Not Binary\n"
     ]
    }
   ],
   "source": [
    "def checkBinary(str):\n",
    "    binary = '01'\n",
    "    for i in range(len(str)):\n",
    "        if str[i] not in binary:\n",
    "            print('Not Binary')\n",
    "            break\n",
    "    else:\n",
    "        print('Its a Binary')\n",
    "        \n",
    "str = input(\"Enter the string : \")\n",
    "checkBinary(str)        "
   ]
  },
  {
   "cell_type": "markdown",
   "id": "2b4024b4",
   "metadata": {},
   "source": [
    "# 5. Write a Python program to find uncommon words from two Strings?"
   ]
  },
  {
   "cell_type": "code",
   "execution_count": 5,
   "id": "f371ab2d",
   "metadata": {},
   "outputs": [
    {
     "name": "stdout",
     "output_type": "stream",
     "text": [
      "Enter the string a : rat cat mat sat dad hat\n",
      "Enter the string b : dad mat sat yat tat let\n",
      "The list of un Common words :   rat cat hat yat tat let\n"
     ]
    }
   ],
   "source": [
    "def unCommon(a,b):\n",
    "    list_a = a.split()\n",
    "    list_b = b.split()\n",
    "    unCom =''\n",
    "    \n",
    "    for i in list_a:\n",
    "        if i not in list_b:\n",
    "            unCom = unCom +\" \"+ i\n",
    "    for j in list_b:\n",
    "        if j not in list_a:\n",
    "            unCom = unCom +\" \"+ j\n",
    "    return unCom\n",
    "\n",
    "a = input(\"Enter the string a : \").lower()\n",
    "b = input(\"Enter the string b : \").lower()\n",
    "\n",
    "print(\"The list of un Common words : \", unCommon(a,b))          "
   ]
  },
  {
   "cell_type": "markdown",
   "id": "69ce06c8",
   "metadata": {},
   "source": [
    "# 6. Write a Python to find all duplicate characters in string?"
   ]
  },
  {
   "cell_type": "code",
   "execution_count": 6,
   "id": "810dd7a7",
   "metadata": {},
   "outputs": [
    {
     "name": "stdout",
     "output_type": "stream",
     "text": [
      "Enter the string a : programming\n"
     ]
    },
    {
     "data": {
      "text/plain": [
       "['r', 'g', 'm']"
      ]
     },
     "execution_count": 6,
     "metadata": {},
     "output_type": "execute_result"
    }
   ],
   "source": [
    "str = input(\"Enter the string a : \").lower()\n",
    "duplicate = []\n",
    "\n",
    "for i in str:\n",
    "    if str.count(i) > 1 :\n",
    "        if i not in duplicate:\n",
    "            duplicate.append(i)\n",
    "        \n",
    "duplicate\n"
   ]
  },
  {
   "cell_type": "markdown",
   "id": "a999078c",
   "metadata": {},
   "source": [
    "# 7. Write a Python Program to check if a string contains any special character?"
   ]
  },
  {
   "cell_type": "code",
   "execution_count": 7,
   "id": "1368707f",
   "metadata": {},
   "outputs": [
    {
     "name": "stdout",
     "output_type": "stream",
     "text": [
      "Enter the string a : @@@ajay!#$%5\n",
      "String @@@ajay!#$%5 has special charecter/s : ['@', '@', '@', '!', '#', '$', '%']\n"
     ]
    }
   ],
   "source": [
    "import string\n",
    "\n",
    "string_char = string.punctuation\n",
    "spChar = []\n",
    "\n",
    "str = input(\"Enter the string a : \").lower()\n",
    "for i in str:\n",
    "    if i in string_char:\n",
    "        spChar.append(i)\n",
    "if len(spChar) > 0:\n",
    "    print(\"String {} has special charecter/s : {}\".format(str,spChar))"
   ]
  },
  {
   "cell_type": "code",
   "execution_count": null,
   "id": "46ebc2b7",
   "metadata": {},
   "outputs": [],
   "source": []
  }
 ],
 "metadata": {
  "kernelspec": {
   "display_name": "Python 3 (ipykernel)",
   "language": "python",
   "name": "python3"
  },
  "language_info": {
   "codemirror_mode": {
    "name": "ipython",
    "version": 3
   },
   "file_extension": ".py",
   "mimetype": "text/x-python",
   "name": "python",
   "nbconvert_exporter": "python",
   "pygments_lexer": "ipython3",
   "version": "3.9.12"
  }
 },
 "nbformat": 4,
 "nbformat_minor": 5
}
